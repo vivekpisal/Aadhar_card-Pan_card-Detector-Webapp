{
 "cells": [
  {
   "cell_type": "code",
   "execution_count": 1,
   "metadata": {},
   "outputs": [],
   "source": [
    "import matplotlib.pyplot as plt\n",
    "import cv2\n",
    "import easyocr\n",
    "from pylab import rcParams\n",
    "from IPython.display import Image\n",
    "rcParams['figure.figsize']=8,16"
   ]
  },
  {
   "cell_type": "code",
   "execution_count": 2,
   "metadata": {},
   "outputs": [
    {
     "name": "stdout",
     "output_type": "stream",
     "text": [
      "CUDA not available - defaulting to CPU. Note: This module is much faster with a GPU.\n"
     ]
    }
   ],
   "source": [
    "reader=easyocr.Reader(['en'])"
   ]
  },
  {
   "cell_type": "code",
   "execution_count": 4,
   "metadata": {},
   "outputs": [
    {
     "data": {
      "image/jpeg": "[encoded data removed]",
      "text/plain": [
       "<IPython.core.display.Image object>"
      ]
     },
     "execution_count": 4,
     "metadata": {},
     "output_type": "execute_result"
    }
   ],
   "source": [
    "Image(\"images (1).jpeg\")"
   ]
  },
  {
   "cell_type": "code",
   "execution_count": 5,
   "metadata": {},
   "outputs": [],
   "source": [
    "op=reader.readtext('images (1).jpeg')"
   ]
  },
  {
   "cell_type": "code",
   "execution_count": 6,
   "metadata": {},
   "outputs": [
    {
     "data": {
      "text/plain": [
       "[([[77, 9], [121, 9], [121, 25], [77, 25]], 'feHlaT', 0.015509512275457382),\n",
       " ([[178, 10], [217, 10], [217, 27], [178, 27]], 'TI7HT', 0.037201039493083954),\n",
       " ([[13, 11], [69, 11], [69, 25], [13, 25]], '3ll', 0.005545428488403559),\n",
       " ([[225, 11], [271, 11], [271, 27], [225, 27]],\n",
       "  '71?=I7',\n",
       "  0.0021267514675855637),\n",
       " ([[179, 29], [273, 29], [273, 47], [179, 47]],\n",
       "  'GOVT, OF INDIA',\n",
       "  0.3154689073562622),\n",
       " ([[11, 31], [121, 31], [121, 45], [11, 45]],\n",
       "  'IMCOMLIADLPA3JHGST',\n",
       "  1.4656279745395295e-06),\n",
       " ([[17, 57], [135, 57], [135, 69], [17, 69]],\n",
       "  'PPAIIDD HUIIAR IIAHTO',\n",
       "  0.00019662125851027668),\n",
       " ([[19, 73], [101, 73], [101, 85], [19, 85]],\n",
       "  'VASUDEI MAHTO',\n",
       "  0.0074829584918916225),\n",
       " ([[17, 89], [67, 89], [67, 101], [17, 101]],\n",
       "  '03/04/199?',\n",
       "  0.21077769994735718),\n",
       " ([[17, 121], [89, 121], [89, 135], [17, 135]],\n",
       "  'AM{}PIM25374',\n",
       "  0.004483766388148069),\n",
       " ([[19, 147], [59, 147], [59, 165], [19, 165]],\n",
       "  'funalg',\n",
       "  0.019790424033999443)]"
      ]
     },
     "execution_count": 6,
     "metadata": {},
     "output_type": "execute_result"
    }
   ],
   "source": [
    "op"
   ]
  },
  {
   "cell_type": "code",
   "execution_count": 7,
   "metadata": {},
   "outputs": [
    {
     "name": "stdout",
     "output_type": "stream",
     "text": [
      "feHlaT\n",
      "TI7HT\n",
      "3ll\n",
      "71?=I7\n",
      "GOVT, OF INDIA\n",
      "IMCOMLIADLPA3JHGST\n",
      "PPAIIDD HUIIAR IIAHTO\n",
      "VASUDEI MAHTO\n",
      "03/04/199?\n",
      "AM{}PIM25374\n",
      "funalg\n"
     ]
    }
   ],
   "source": [
    "for i in op:\n",
    "    print(i[1])"
   ]
  },
  {
   "cell_type": "code",
   "execution_count": 8,
   "metadata": {},
   "outputs": [],
   "source": [
    "from IPython.display import Image\n",
    "import pytesseract"
   ]
  },
  {
   "cell_type": "code",
   "execution_count": 9,
   "metadata": {},
   "outputs": [],
   "source": [
    "Image(\"images (2).jpeg\")\n",
    "op=pytesseract.image_to_string(\"images (2).jpeg\",lang='hin')"
   ]
  },
  {
   "cell_type": "code",
   "execution_count": 10,
   "metadata": {},
   "outputs": [
    {
     "data": {
      "text/plain": [
       "'ज्ञायकर विभाग भारत रस\\nआह ७छशाफक्षा 600.07089&\\n॥ह8॥एकभह\\n\\n \\n\\n \\n\\nअधाश0९॥॥ 88 #ए२ए6॥४\\n\\n20०७2२००:\\nअलाप000/:.००।७०त७ल\\n\\nको लक  ह)\\n\\n००'"
      ]
     },
     "execution_count": 10,
     "metadata": {},
     "output_type": "execute_result"
    }
   ],
   "source": [
    "op"
   ]
  },
  {
   "cell_type": "code",
   "execution_count": 11,
   "metadata": {},
   "outputs": [
    {
     "data": {
      "image/jpeg": "[encoded data removed]",
      "text/plain": [
       "<IPython.core.display.Image object>"
      ]
     },
     "execution_count": 11,
     "metadata": {},
     "output_type": "execute_result"
    }
   ],
   "source": [
    "Image(\"images (1).jpeg\")"
   ]
  },
  {
   "cell_type": "code",
   "execution_count": 12,
   "metadata": {},
   "outputs": [
    {
     "name": "stdout",
     "output_type": "stream",
     "text": [
      "True\n"
     ]
    }
   ],
   "source": [
    "if 'मारत सरकार' or 'भारत सरकार' in op:\n",
    "    print('True')"
   ]
  },
  {
   "cell_type": "code",
   "execution_count": 14,
   "metadata": {},
   "outputs": [
    {
     "data": {
      "text/plain": [
       "'Sorex feet ART UR\\n“INCOMETAX DEPARTMENT = = GOVT. OF INDIA'"
      ]
     },
     "execution_count": 14,
     "metadata": {},
     "output_type": "execute_result"
    }
   ],
   "source": [
    "Image(\"images (1).jpeg\")\n",
    "op=pytesseract.image_to_string(\"images (1).jpeg\")\n",
    "op"
   ]
  },
  {
   "cell_type": "code",
   "execution_count": 23,
   "metadata": {},
   "outputs": [
    {
     "name": "stdout",
     "output_type": "stream",
     "text": [
      "accno: AALRO118C\n"
     ]
    }
   ],
   "source": [
    "print('accno:',op[110:119])"
   ]
  },
  {
   "cell_type": "code",
   "execution_count": null,
   "metadata": {},
   "outputs": [],
   "source": []
  }
 ],
 "metadata": {
  "kernelspec": {
   "display_name": "Python 3",
   "language": "python",
   "name": "python3"
  },
  "language_info": {
   "codemirror_mode": {
    "name": "ipython",
    "version": 3
   },
   "file_extension": ".py",
   "mimetype": "text/x-python",
   "name": "python",
   "nbconvert_exporter": "python",
   "pygments_lexer": "ipython3",
   "version": "3.8.2"
  }
 },
 "nbformat": 4,
 "nbformat_minor": 4
}
